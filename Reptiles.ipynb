{
 "cells": [
  {
   "cell_type": "code",
   "execution_count": 10,
   "metadata": {},
   "outputs": [],
   "source": [
    "import os\n",
    "import glob\n",
    "import re\n",
    "import numpy as np \n"
   ]
  },
  {
   "cell_type": "code",
   "execution_count": 26,
   "metadata": {},
   "outputs": [
    {
     "name": "stdout",
     "output_type": "stream",
     "text": [
      "Found 133 images belonging to 7 classes.\n",
      "Found 7 images belonging to 7 classes.\n",
      "[[0. 1. 0. 0. 0. 0. 0.]\n",
      " [0. 0. 0. 0. 0. 1. 0.]\n",
      " [0. 0. 1. 0. 0. 0. 0.]\n",
      " [0. 0. 0. 1. 0. 0. 0.]\n",
      " [1. 0. 0. 0. 0. 0. 0.]\n",
      " [0. 0. 0. 0. 1. 0. 0.]\n",
      " [0. 0. 0. 0. 0. 0. 1.]]\n"
     ]
    }
   ],
   "source": [
    "from tensorflow.keras.preprocessing.image import ImageDataGenerator\n",
    "\n",
    "generador_entrenamiento = ImageDataGenerator()\n",
    "datos_entrenamiento = generador_entrenamiento.flow_from_directory(\"Data/Train/\",\n",
    "target_size=(256, 256),\n",
    "batch_size=(32),\n",
    "class_mode='categorical'\n",
    ")\n",
    "generador_test = ImageDataGenerator()\n",
    "datos_test = generador_test.flow_from_directory(\"Data/Test/\",\n",
    "target_size=(256, 256),\n",
    "batch_size=(32),\n",
    "class_mode='categorical'\n",
    ")\n",
    "\n",
    "algunas_imagenes = next(datos_test)\n",
    "\n",
    "print(algunas_imagenes[1])"
   ]
  },
  {
   "cell_type": "code",
   "execution_count": 23,
   "metadata": {},
   "outputs": [
    {
     "data": {
      "text/plain": [
       "<function matplotlib.pyplot.show(close=None, block=None)>"
      ]
     },
     "execution_count": 23,
     "metadata": {},
     "output_type": "execute_result"
    },
    {
     "data": {
      "image/png": "[encoded data removed]",
      "text/plain": [
       "<Figure size 432x288 with 1 Axes>"
      ]
     },
     "metadata": {
      "needs_background": "light"
     },
     "output_type": "display_data"
    }
   ],
   "source": [
    "from matplotlib import pyplot as plt\n",
    "plt.imshow(algunas_imagenes[1]/255.)\n",
    "plt.axis('off')\n",
    "plt.show\n"
   ]
  },
  {
   "cell_type": "code",
   "execution_count": 3,
   "metadata": {},
   "outputs": [],
   "source": [
    "\n",
    "from tensorflow.keras import applications\n",
    "inception = applications.InceptionV3(include_top=False, input_shape=(256, 256, 3))"
   ]
  },
  {
   "cell_type": "code",
   "execution_count": 8,
   "metadata": {},
   "outputs": [],
   "source": [
    "from tensorflow.keras.layers import Flatten,Dense\n",
    "from tensorflow.keras.models import  Sequential\n",
    "predictor =Sequential([\n",
    "    Flatten(),\n",
    "    Dense(128,activation=\"relu\"),\n",
    "    Dense(7,activation=\"softmax\")\n",
    "])\n",
    "modelo =Sequential([inception,predictor])\n",
    "modelo.compile(optimizer=\"adam\",loss=\"categorical_crossentropy\")"
   ]
  },
  {
   "cell_type": "code",
   "execution_count": 9,
   "metadata": {},
   "outputs": [
    {
     "name": "stdout",
     "output_type": "stream",
     "text": [
      "Epoch 1/50\n",
      "5/5 [==============================] - 137s 18s/step - loss: 24.3525\n",
      "Epoch 2/50\n",
      "5/5 [==============================] - 99s 18s/step - loss: 2.5314\n",
      "Epoch 3/50\n",
      "5/5 [==============================] - 122s 30s/step - loss: 2.4048\n",
      "Epoch 4/50\n",
      "5/5 [==============================] - 128s 22s/step - loss: 2.2430\n",
      "Epoch 5/50\n",
      "5/5 [==============================] - 112s 22s/step - loss: 1.8552\n",
      "Epoch 6/50\n",
      "5/5 [==============================] - 98s 18s/step - loss: 1.6661\n",
      "Epoch 7/50\n",
      "5/5 [==============================] - 85s 16s/step - loss: 1.5227\n",
      "Epoch 8/50\n",
      "5/5 [==============================] - 81s 15s/step - loss: 1.3287\n",
      "Epoch 9/50\n",
      "5/5 [==============================] - 82s 16s/step - loss: 1.3064\n",
      "Epoch 10/50\n",
      "5/5 [==============================] - 95s 16s/step - loss: 1.0896\n",
      "Epoch 11/50\n",
      "5/5 [==============================] - 89s 17s/step - loss: 1.2837\n",
      "Epoch 12/50\n",
      "5/5 [==============================] - 98s 18s/step - loss: 1.3629\n",
      "Epoch 13/50\n",
      "5/5 [==============================] - 98s 19s/step - loss: 1.1888\n",
      "Epoch 14/50\n",
      "5/5 [==============================] - 66s 12s/step - loss: 1.3284\n",
      "Epoch 15/50\n",
      "5/5 [==============================] - 65s 12s/step - loss: 1.0379\n",
      "Epoch 16/50\n",
      "5/5 [==============================] - 66s 12s/step - loss: 0.9560\n",
      "Epoch 17/50\n",
      "5/5 [==============================] - 65s 12s/step - loss: 0.8172\n",
      "Epoch 18/50\n",
      "5/5 [==============================] - 65s 16s/step - loss: 1.2132\n",
      "Epoch 19/50\n",
      "5/5 [==============================] - 74s 12s/step - loss: 1.1368\n",
      "Epoch 20/50\n",
      "5/5 [==============================] - 64s 15s/step - loss: 1.3224\n",
      "Epoch 21/50\n",
      "5/5 [==============================] - 65s 15s/step - loss: 1.2548\n",
      "Epoch 22/50\n",
      "5/5 [==============================] - 65s 12s/step - loss: 1.0138\n",
      "Epoch 23/50\n",
      "5/5 [==============================] - 65s 16s/step - loss: 1.1138\n",
      "Epoch 24/50\n",
      "5/5 [==============================] - 66s 13s/step - loss: 1.1285\n",
      "Epoch 25/50\n",
      "5/5 [==============================] - 76s 13s/step - loss: 1.1040\n",
      "Epoch 26/50\n",
      "5/5 [==============================] - 65s 12s/step - loss: 1.5316\n",
      "Epoch 27/50\n",
      "5/5 [==============================] - 65s 12s/step - loss: 1.2694\n",
      "Epoch 28/50\n",
      "5/5 [==============================] - 65s 16s/step - loss: 1.3621\n",
      "Epoch 29/50\n",
      "5/5 [==============================] - 65s 12s/step - loss: 1.1045\n",
      "Epoch 30/50\n",
      "5/5 [==============================] - 65s 16s/step - loss: 1.0051\n",
      "Epoch 31/50\n",
      "5/5 [==============================] - 65s 12s/step - loss: 0.9467\n",
      "Epoch 32/50\n",
      "5/5 [==============================] - 65s 12s/step - loss: 1.2046\n",
      "Epoch 33/50\n",
      "5/5 [==============================] - 65s 12s/step - loss: 0.8019\n",
      "Epoch 34/50\n",
      "5/5 [==============================] - 64s 12s/step - loss: 0.6871\n",
      "Epoch 35/50\n",
      "5/5 [==============================] - 65s 12s/step - loss: 0.6824\n",
      "Epoch 36/50\n",
      "5/5 [==============================] - 65s 12s/step - loss: 0.6168\n",
      "Epoch 37/50\n",
      "5/5 [==============================] - 74s 12s/step - loss: 0.6639\n",
      "Epoch 38/50\n",
      "5/5 [==============================] - 64s 12s/step - loss: 0.4768\n",
      "Epoch 39/50\n",
      "5/5 [==============================] - 64s 12s/step - loss: 0.5316\n",
      "Epoch 40/50\n",
      "5/5 [==============================] - 74s 15s/step - loss: 0.4512\n",
      "Epoch 41/50\n",
      "5/5 [==============================] - 73s 12s/step - loss: 0.4535\n",
      "Epoch 42/50\n",
      "5/5 [==============================] - 64s 12s/step - loss: 0.3600\n",
      "Epoch 43/50\n",
      "5/5 [==============================] - 64s 12s/step - loss: 0.4330\n",
      "Epoch 44/50\n",
      "5/5 [==============================] - 64s 12s/step - loss: 0.5880\n",
      "Epoch 45/50\n",
      "5/5 [==============================] - 67s 13s/step - loss: 0.4163\n",
      "Epoch 46/50\n",
      "5/5 [==============================] - 63s 12s/step - loss: 0.6562\n",
      "Epoch 47/50\n",
      "5/5 [==============================] - 1595s 23s/step - loss: 0.4398\n",
      "Epoch 48/50\n",
      "5/5 [==============================] - 90s 17s/step - loss: 0.3390\n",
      "Epoch 49/50\n",
      "5/5 [==============================] - 89s 17s/step - loss: 0.6609\n",
      "Epoch 50/50\n",
      "5/5 [==============================] - 108s 22s/step - loss: 0.2341\n"
     ]
    },
    {
     "data": {
      "text/plain": [
       "<keras.callbacks.History at 0x29306ed0a00>"
      ]
     },
     "execution_count": 9,
     "metadata": {},
     "output_type": "execute_result"
    }
   ],
   "source": [
    "# Entrenamiento red neuronal\n",
    "modelo.fit(datos_entrenamiento,epochs=50)"
   ]
  },
  {
   "cell_type": "code",
   "execution_count": 18,
   "metadata": {},
   "outputs": [
    {
     "name": "stdout",
     "output_type": "stream",
     "text": [
      "1/1 [==============================] - 4s 4s/step\n"
     ]
    }
   ],
   "source": [
    "# prueba \n",
    "probs = modelo.predict(datos_test)\n",
    "clase =np.argmax(probs,-1)\n"
   ]
  },
  {
   "cell_type": "code",
   "execution_count": 20,
   "metadata": {},
   "outputs": [
    {
     "ename": "TypeError",
     "evalue": "unsupported operand type(s) for /: 'tuple' and 'int'",
     "output_type": "error",
     "traceback": [
      "\u001b[1;31m---------------------------------------------------------------------------\u001b[0m",
      "\u001b[1;31mTypeError\u001b[0m                                 Traceback (most recent call last)",
      "\u001b[1;32m<ipython-input-20-b5185533f328>\u001b[0m in \u001b[0;36m<module>\u001b[1;34m\u001b[0m\n\u001b[0;32m      1\u001b[0m \u001b[1;32mfor\u001b[0m \u001b[0mi\u001b[0m \u001b[1;32min\u001b[0m \u001b[0mrange\u001b[0m\u001b[1;33m(\u001b[0m\u001b[1;36m10\u001b[0m\u001b[1;33m)\u001b[0m\u001b[1;33m:\u001b[0m\u001b[1;33m\u001b[0m\u001b[1;33m\u001b[0m\u001b[0m\n\u001b[1;32m----> 2\u001b[1;33m     \u001b[0mplt\u001b[0m\u001b[1;33m.\u001b[0m\u001b[0mimshow\u001b[0m\u001b[1;33m(\u001b[0m\u001b[0mdatos_test\u001b[0m\u001b[1;33m[\u001b[0m\u001b[0mi\u001b[0m\u001b[1;33m]\u001b[0m\u001b[1;33m/\u001b[0m\u001b[1;36m255\u001b[0m\u001b[1;33m)\u001b[0m\u001b[1;33m\u001b[0m\u001b[1;33m\u001b[0m\u001b[0m\n\u001b[0m\u001b[0;32m      3\u001b[0m     \u001b[0mplt\u001b[0m\u001b[1;33m.\u001b[0m\u001b[0maxis\u001b[0m\u001b[1;33m(\u001b[0m\u001b[1;34m'off'\u001b[0m\u001b[1;33m)\u001b[0m\u001b[1;33m\u001b[0m\u001b[1;33m\u001b[0m\u001b[0m\n\u001b[0;32m      4\u001b[0m     \u001b[0mplt\u001b[0m\u001b[1;33m.\u001b[0m\u001b[0mshow\u001b[0m\u001b[1;33m(\u001b[0m\u001b[1;33m)\u001b[0m\u001b[1;33m\u001b[0m\u001b[1;33m\u001b[0m\u001b[0m\n\u001b[0;32m      5\u001b[0m \u001b[1;33m\u001b[0m\u001b[0m\n",
      "\u001b[1;31mTypeError\u001b[0m: unsupported operand type(s) for /: 'tuple' and 'int'"
     ]
    }
   ],
   "source": [
    "algunas_imagenes=next(datos_test)\n",
    "    "
   ]
  }
 ],
 "metadata": {
  "kernelspec": {
   "display_name": "Python 3",
   "language": "python",
   "name": "python3"
  },
  "language_info": {
   "codemirror_mode": {
    "name": "ipython",
    "version": 3
   },
   "file_extension": ".py",
   "mimetype": "text/x-python",
   "name": "python",
   "nbconvert_exporter": "python",
   "pygments_lexer": "ipython3",
   "version": "3.8.3"
  },
  "orig_nbformat": 4,
  "vscode": {
   "interpreter": {
    "hash": "fce1d45328fd8024ce515f0ae0f0a25e82c54d2a05344803a525f4d98aa6e669"
   }
  }
 },
 "nbformat": 4,
 "nbformat_minor": 2
}
